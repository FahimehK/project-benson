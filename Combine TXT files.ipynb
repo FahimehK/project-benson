{
 "cells": [
  {
   "cell_type": "code",
   "execution_count": 7,
   "metadata": {},
   "outputs": [],
   "source": [
    "import os\n",
    "import glob\n",
    "import pandas as pd\n",
    "os.chdir(\"/Users/monkeyjiashuo/Documents/GitHub/sf19_ds15/curriculum/project-01/Project-Benson/Data Files\")"
   ]
  },
  {
   "cell_type": "code",
   "execution_count": 8,
   "metadata": {},
   "outputs": [],
   "source": [
    "# collect all files with extention as 'txt' in working directory\n",
    "extension = 'txt'\n",
    "all_filenames = [i for i in glob.glob('*.{}'.format(extension))]"
   ]
  },
  {
   "cell_type": "code",
   "execution_count": 10,
   "metadata": {},
   "outputs": [],
   "source": [
    "# concatenate txt files to a single one txt file\n",
    "combined_txt = pd.concat([pd.read_csv(f) for f in all_filenames])\n",
    "combined_txt.to_csv(\"combined_file.txt\", index = False, encoding = 'utf-8-sig')"
   ]
  },
  {
   "cell_type": "code",
   "execution_count": 11,
   "metadata": {},
   "outputs": [
    {
     "name": "stdout",
     "output_type": "stream",
     "text": [
      "file: MTA_3_02.txt -- rows: 203189\n",
      "file: MTA_3_09.txt -- rows: 203987\n",
      "file: MTA_3_16.txt -- rows: 201792\n",
      "file: MTA_3_23.txt -- rows: 202722\n",
      "file: MTA_3_30.txt -- rows: 204595\n",
      "file: MTA_4_06.txt -- rows: 202964\n",
      "file: MTA_4_13.txt -- rows: 204711\n",
      "file: MTA_4_20.txt -- rows: 202547\n",
      "file: MTA_4_27.txt -- rows: 203857\n",
      "file: MTA_5_04.txt -- rows: 206857\n",
      "file: MTA_5_11.txt -- rows: 204088\n",
      "file: MTA_5_18.txt -- rows: 208681\n",
      "file: MTA_5_25.txt -- rows: 203363\n",
      "Total: 2653353\n"
     ]
    }
   ],
   "source": [
    "# validate data quality\n",
    "total = 0\n",
    "for f in all_filenames:\n",
    "    df = pd.read_csv(f)\n",
    "    print(f'file: {f} -- rows: {len(df)}')\n",
    "    total += len(df)\n",
    "print(f'Total: {total}')"
   ]
  }
 ],
 "metadata": {
  "kernelspec": {
   "display_name": "Python 3",
   "language": "python",
   "name": "python3"
  },
  "language_info": {
   "codemirror_mode": {
    "name": "ipython",
    "version": 3
   },
   "file_extension": ".py",
   "mimetype": "text/x-python",
   "name": "python",
   "nbconvert_exporter": "python",
   "pygments_lexer": "ipython3",
   "version": "3.6.8"
  }
 },
 "nbformat": 4,
 "nbformat_minor": 2
}
